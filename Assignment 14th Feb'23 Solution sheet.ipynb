{
 "cells": [
  {
   "cell_type": "markdown",
   "id": "58a9a7e9-0482-4a81-82db-140b7ae9d136",
   "metadata": {},
   "source": [
    "Q1. What is multithreading in python? why is it used? Name the module used to handle threads in python."
   ]
  },
  {
   "cell_type": "markdown",
   "id": "0a16e07b-ec7a-40d6-bac1-c34e65ea866a",
   "metadata": {},
   "source": [
    "Answer 1. Multithreading in Python refers to the ability of a program to execute multiple threads of execution concurrently. A thread is a separate flow of execution within a program. In other words, multithreading allows a program to perform multiple tasks simultaneously.\n",
    "\n",
    "Multithreading is used to increase the performance and efficiency of a program by taking advantage of the available hardware resources. By executing multiple threads, a program can take advantage of the available processing power of a multi-core CPU.\n",
    "\n",
    "The module used to handle threads in Python is the \"threading\" module. It provides a simple and intuitive API for creating and managing threads in Python. With the \"threading\" module, one can create new threads, start and stop threads, and communicate between threads."
   ]
  },
  {
   "cell_type": "markdown",
   "id": "a7942b33-e39d-42f1-8823-90050dbafb17",
   "metadata": {},
   "source": [
    "Q2. Why threading module used? Write the use of the following functions:\n",
    "\n",
    "1. activeCount()\n",
    "\n",
    "2. currentThread()\n",
    "\n",
    "3. enumerate()"
   ]
  },
  {
   "cell_type": "markdown",
   "id": "31d90df4-b7ce-419e-b645-a41eb085a8eb",
   "metadata": {},
   "source": [
    "Answer 2. The \"threading\" module is used in Python to create and manage threads of execution. It provides a high-level interface for working with threads and is a powerful tool for building concurrent applications. Here's an overview of some of the functions provided by the \"threading\" module:\n",
    "\n",
    "1. activeCount(): This function returns the number of thread objects that are currently active. This can be useful for monitoring the status of your threads and determining if any threads are still running.\n",
    "\n",
    "2. currentThread(): This function returns a reference to the current thread object that is calling it. This can be useful for obtaining information about the current thread, such as its name or ID.\n",
    "\n",
    "3. enumerate(): This function returns a list of all thread objects that are currently active. This can be useful for obtaining information about all the threads in your application, such as their names or IDs. The returned list includes the current thread object as well as any other active thread objects."
   ]
  },
  {
   "cell_type": "markdown",
   "id": "ee76e32a-c74a-4502-949d-b831fa176f77",
   "metadata": {},
   "source": [
    "Q3. Explain the following functions:\n",
    "\n",
    "1. run()\n",
    "\n",
    "2. start()\n",
    "\n",
    "3. join()\n",
    "\n",
    "4. isAlive()"
   ]
  },
  {
   "cell_type": "markdown",
   "id": "3c00f0d2-7419-491f-8930-d154e6d9e1cb",
   "metadata": {},
   "source": [
    "Answer 3. \n",
    "\n",
    "1. run(): This function is called when a thread is started using the \"start()\" method. It contains the code that will be executed in the new thread of execution. You can override this method in your own subclass of the \"Thread\" class to define your own thread function.\n",
    "\n",
    "2. start(): This function starts a new thread of execution for the current thread object. When called, it creates a new thread and calls the \"run()\" method in the new thread. The new thread will continue to run until the \"run()\" method returns or the thread is stopped.\n",
    "\n",
    "3. join(): This function blocks the current thread of execution until the thread object that it is called on has completed execution. If the thread is still running when \"join()\" is called, the current thread will wait until the thread has finished before continuing.\n",
    "\n",
    "4. isAlive(): This function returns a boolean value indicating whether the thread object that it is called on is currently running. If the thread is still executing, this function will return True. Otherwise, it will return False.\n",
    "\n",
    "In nutshell, the \"run()\" method defines the code that will be executed in the new thread, \"start()\" method starts a new thread of execution, \"join()\" method waits for the thread to complete execution, and \"isAlive()\" method checks whether the thread is still running or not."
   ]
  },
  {
   "cell_type": "markdown",
   "id": "f0d99f4a-f416-4d32-81be-d45bdc9d4116",
   "metadata": {},
   "source": [
    "Q4. Write a python program to create two threads. Thread one must print the list of squares and thread two must print the list of cubes."
   ]
  },
  {
   "cell_type": "code",
   "execution_count": 2,
   "id": "44634e60-4767-455a-942d-f79898e636b6",
   "metadata": {},
   "outputs": [
    {
     "name": "stdout",
     "output_type": "stream",
     "text": [
      "1 squared is 1\n",
      "2 squared is 4\n",
      "3 squared is 9\n",
      "4 squared is 16\n",
      "5 squared is 25\n",
      "6 squared is 36\n",
      "7 squared is 49\n",
      "8 squared is 64\n",
      "9 squared is 81\n",
      "10 squared is 100\n",
      "1 cubed is 1\n",
      "2 cubed is 8\n",
      "3 cubed is 27\n",
      "4 cubed is 64\n",
      "5 cubed is 125\n",
      "6 cubed is 216\n",
      "7 cubed is 343\n",
      "8 cubed is 512\n",
      "9 cubed is 729\n",
      "10 cubed is 1000\n"
     ]
    }
   ],
   "source": [
    "import threading\n",
    "\n",
    "def print_squares():\n",
    "    for i in range(1, 11):\n",
    "        print(f\"{i} squared is {i**2}\")\n",
    "\n",
    "def print_cubes():\n",
    "    for i in range(1, 11):\n",
    "        print(f\"{i} cubed is {i**3}\")\n",
    "\n",
    "if __name__ == \"__main__\":\n",
    "    t1 = threading.Thread(target=print_squares)\n",
    "    t2 = threading.Thread(target=print_cubes)\n",
    "    t1.start()\n",
    "    t2.start()\n",
    "    t1.join()\n",
    "    t2.join()\n"
   ]
  },
  {
   "cell_type": "markdown",
   "id": "1563dc38-fe23-4f5e-b287-946a336e4add",
   "metadata": {},
   "source": [
    "Q5. State advantages and disadvantages of multithreading."
   ]
  },
  {
   "cell_type": "markdown",
   "id": "88d747c9-1976-46e2-b3e8-587acb823470",
   "metadata": {},
   "source": [
    "Answer 5. \n",
    "\n",
    "Advantages:\n",
    "\n",
    "1. Improved performance: Multithreading allows a program to execute multiple tasks concurrently, which can significantly improve the performance of the program.\n",
    "\n",
    "2. Efficient use of resources: By executing multiple threads on a multi-core CPU, a program can make efficient use of available hardware resources.\n",
    "\n",
    "3. Simplified program design: Multithreading can simplify the design of complex applications by allowing different parts of the application to be executed concurrently.\n",
    "\n",
    "4. Improved user experience: Multithreading can improve the user experience by allowing the program to respond quickly to user input while performing background tasks.\n",
    "\n",
    "\n",
    "Disadvantages:\n",
    "\n",
    "1. Increased complexity: Multithreaded applications can be more complex to design, implement, and debug than single-threaded applications.\n",
    "\n",
    "2. Synchronization issues: Multithreaded applications can suffer from synchronization issues, such as race conditions, which can be difficult to detect and fix.\n",
    "\n",
    "3. Increased resource consumption: Multithreaded applications can consume more system resources, such as memory and CPU cycles, than single-threaded applications.\n",
    "\n",
    "4. Harder to debug: Multithreaded applications can be harder to debug than single-threaded applications because the behavior of one thread can affect the behavior of other threads.\n",
    "\n",
    "\n",
    "To recaptitulate, multithreading can provide significant benefits in terms of improved performance, efficient use of resources, simplified program design, and improved user experience. However, it also comes with some disadvantages, including increased complexity, synchronization issues, increased resource consumption, and harder to debug."
   ]
  },
  {
   "cell_type": "markdown",
   "id": "24edadb4-92ac-4370-9fe4-de66c25aefea",
   "metadata": {},
   "source": [
    "Q6. Explain deadlocks and race conditions."
   ]
  },
  {
   "cell_type": "markdown",
   "id": "304ad222-e279-43b9-b9b0-c4200ecac66c",
   "metadata": {},
   "source": [
    "Answer 6. Deadlocks and race conditions are two common concurrency issues that can occur in multithreaded applications:\n",
    "\n",
    "Deadlocks: A deadlock is a situation where two or more threads are blocked, waiting for each other to release resources that they need to proceed. This can happen when two or more threads are waiting for a resource that is being held by another thread, and that thread is also waiting for a resource that is being held by one of the waiting threads. This creates a circular dependency that results in all the threads being blocked indefinitely. Deadlocks can be difficult to detect and resolve, and can cause a program to hang or crash.\n",
    "\n",
    "Race conditions: A race condition is a situation where the behavior of a program depends on the timing or order of events that are not under the program's control. This can happen when two or more threads access a shared resource concurrently, and the order in which they access the resource affects the behavior of the program. Race conditions can result in unpredictable behavior, such as incorrect calculation results, memory corruption, or program crashes.\n",
    "\n",
    "Both deadlocks and race conditions are serious issues that can cause a program to behave unexpectedly or even crash. It is important to design multithreaded applications carefully to avoid these issues by properly synchronizing access to shared resources and avoiding circular dependencies. Synchronization techniques like locks, semaphores, and barriers can be used to prevent race conditions and deadlocks by ensuring that only one thread can access a shared resource at a time and by preventing threads from waiting indefinitely for each other to release resources."
   ]
  }
 ],
 "metadata": {
  "kernelspec": {
   "display_name": "Python 3 (ipykernel)",
   "language": "python",
   "name": "python3"
  },
  "language_info": {
   "codemirror_mode": {
    "name": "ipython",
    "version": 3
   },
   "file_extension": ".py",
   "mimetype": "text/x-python",
   "name": "python",
   "nbconvert_exporter": "python",
   "pygments_lexer": "ipython3",
   "version": "3.10.8"
  }
 },
 "nbformat": 4,
 "nbformat_minor": 5
}
